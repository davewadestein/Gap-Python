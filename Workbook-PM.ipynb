{
 "cells": [
  {
   "cell_type": "markdown",
   "id": "36d03938-f15f-4e6d-a183-14a543fc4642",
   "metadata": {},
   "source": [
    "# Important Things About Python\n",
    "* Python's raison d'être is sort of a reaction Perl/sh\n",
    "  * built for manipulating text\n",
    "* everything is an object\n",
    "  * well, everything sits in memory and we can inspect it\n",
    "* Python is dynamically typed\n",
    "  * you don't have to tell Python about variables (or their intended types) beforehand\n",
    "  * you can put an object of a different type into a variable that has some other type in it\n",
    "* simple types vs. container types\n",
    "  * simple types (\"scalars\") hold one value\n",
    "    * int, float, bool, str\n",
    "  * containers hold 0+ values\n",
    "    * str\n",
    "    * we can use the _in_ operator to determine if a object is in a container\n",
    "* mutable vs. immutable objects\n",
    "  * immutable: str"
   ]
  },
  {
   "cell_type": "markdown",
   "id": "402c3ef1-6d8c-4a9c-abd4-9f1a20e4eb88",
   "metadata": {},
   "source": [
    "# Important Things About Learning / Teaching\n",
    "* know when to zoom in / zoom out"
   ]
  },
  {
   "cell_type": "markdown",
   "id": "0a977b4e-a5a7-4645-b180-e8ad2f6d247c",
   "metadata": {},
   "source": [
    "# Important things about Coding\n",
    "* you read code 10x as much as you write code\n",
    "* DRY = Don't Repeat Yourself"
   ]
  },
  {
   "cell_type": "code",
   "execution_count": 6,
   "id": "91839a9e-6cf4-422a-b0c0-08974db0b0de",
   "metadata": {},
   "outputs": [],
   "source": [
    "import math"
   ]
  },
  {
   "cell_type": "code",
   "execution_count": 5,
   "id": "1a0733a0-da47-49a5-ad0f-787e78f271eb",
   "metadata": {},
   "outputs": [
    {
     "data": {
      "text/plain": [
       "1.0"
      ]
     },
     "execution_count": 5,
     "metadata": {},
     "output_type": "execute_result"
    }
   ],
   "source": [
    "math.sin(math.pi / 2.0)"
   ]
  },
  {
   "cell_type": "code",
   "execution_count": 8,
   "id": "00e9e667-6dbc-4217-b156-138c52d650c1",
   "metadata": {},
   "outputs": [
    {
     "data": {
      "text/plain": [
       "139809112382256"
      ]
     },
     "execution_count": 8,
     "metadata": {},
     "output_type": "execute_result"
    }
   ],
   "source": [
    "id(math)"
   ]
  },
  {
   "cell_type": "code",
   "execution_count": 1,
   "id": "709208b5-909a-4bdc-8d70-a18019097659",
   "metadata": {},
   "outputs": [
    {
     "name": "stdout",
     "output_type": "stream",
     "text": [
      "The Zen of Python, by Tim Peters\n",
      "\n",
      "Beautiful is better than ugly.\n",
      "Explicit is better than implicit.\n",
      "Simple is better than complex.\n",
      "Complex is better than complicated.\n",
      "Flat is better than nested.\n",
      "Sparse is better than dense.\n",
      "Readability counts.\n",
      "Special cases aren't special enough to break the rules.\n",
      "Although practicality beats purity.\n",
      "Errors should never pass silently.\n",
      "Unless explicitly silenced.\n",
      "In the face of ambiguity, refuse the temptation to guess.\n",
      "There should be one-- and preferably only one --obvious way to do it.\n",
      "Although that way may not be obvious at first unless you're Dutch.\n",
      "Now is better than never.\n",
      "Although never is often better than *right* now.\n",
      "If the implementation is hard to explain, it's a bad idea.\n",
      "If the implementation is easy to explain, it may be a good idea.\n",
      "Namespaces are one honking great idea -- let's do more of those!\n"
     ]
    }
   ],
   "source": [
    "import this # what we could an \"easter egg\""
   ]
  },
  {
   "cell_type": "code",
   "execution_count": 10,
   "id": "30ee8935-e1f7-4577-9d91-c47db781fa20",
   "metadata": {},
   "outputs": [
    {
     "data": {
      "text/plain": [
       "139809037968688"
      ]
     },
     "execution_count": 10,
     "metadata": {},
     "output_type": "execute_result"
    }
   ],
   "source": [
    "id(this)"
   ]
  },
  {
   "cell_type": "code",
   "execution_count": 1,
   "id": "1e79357f-b40f-407e-af0d-5f0cf60f6fdc",
   "metadata": {},
   "outputs": [
    {
     "data": {
      "text/plain": [
       "5"
      ]
     },
     "execution_count": 1,
     "metadata": {},
     "output_type": "execute_result"
    }
   ],
   "source": [
    "2 + 3"
   ]
  },
  {
   "cell_type": "code",
   "execution_count": 3,
   "id": "bfd04350-18bf-42bb-95fc-0e253da68f8e",
   "metadata": {},
   "outputs": [],
   "source": [
    "x = 2 + 3"
   ]
  },
  {
   "cell_type": "code",
   "execution_count": 4,
   "id": "1873f848-b873-4a78-8972-8357ae9d9a06",
   "metadata": {},
   "outputs": [
    {
     "data": {
      "text/plain": [
       "10"
      ]
     },
     "execution_count": 4,
     "metadata": {},
     "output_type": "execute_result"
    }
   ],
   "source": [
    "x + 5"
   ]
  },
  {
   "cell_type": "code",
   "execution_count": 6,
   "id": "39fa1450-4837-40cb-8b34-5e0ee7a4105e",
   "metadata": {},
   "outputs": [],
   "source": [
    "a = 2"
   ]
  },
  {
   "cell_type": "code",
   "execution_count": 8,
   "id": "203e2ca8-be09-4682-ae77-6c2a812e5da4",
   "metadata": {},
   "outputs": [
    {
     "data": {
      "text/plain": [
       "5"
      ]
     },
     "execution_count": 8,
     "metadata": {},
     "output_type": "execute_result"
    }
   ],
   "source": [
    "a + 3 # THIS CELL consists of ONE line"
   ]
  },
  {
   "cell_type": "code",
   "execution_count": 11,
   "id": "d0b25658-737a-40eb-a07b-002eaffa0b6a",
   "metadata": {},
   "outputs": [
    {
     "name": "stdout",
     "output_type": "stream",
     "text": [
      "40\n",
      "39\n"
     ]
    }
   ],
   "source": [
    "n = 5 # every other line in the cell is treated as \"program mode\"\n",
    "n = n * 8\n",
    "print(n)\n",
    "n = n - 1\n",
    "print(n) # only the last line of a cell is treated as \"interactive mode\""
   ]
  },
  {
   "cell_type": "code",
   "execution_count": 12,
   "id": "82f3819a-c9c5-49b2-9947-0c7e27a98802",
   "metadata": {},
   "outputs": [
    {
     "data": {
      "text/plain": [
       "39"
      ]
     },
     "execution_count": 12,
     "metadata": {},
     "output_type": "execute_result"
    }
   ],
   "source": [
    "n"
   ]
  },
  {
   "cell_type": "code",
   "execution_count": 17,
   "id": "758f4265-609a-4f75-9f54-b6d8b7564f09",
   "metadata": {},
   "outputs": [
    {
     "name": "stdout",
     "output_type": "stream",
     "text": [
      "39\n",
      "hi\n"
     ]
    }
   ],
   "source": [
    "print(n)\n",
    "print('hi')"
   ]
  },
  {
   "cell_type": "code",
   "execution_count": 18,
   "id": "36f893bb-6101-4ed2-87ee-7b641d33dc85",
   "metadata": {},
   "outputs": [],
   "source": [
    "name = 'Grace Hopper'"
   ]
  },
  {
   "cell_type": "code",
   "execution_count": 19,
   "id": "e6e62804-069c-4fd6-9439-11c65f4333ef",
   "metadata": {},
   "outputs": [
    {
     "name": "stdout",
     "output_type": "stream",
     "text": [
      "Grace Hopper\n"
     ]
    }
   ],
   "source": [
    "print(name)"
   ]
  },
  {
   "cell_type": "code",
   "execution_count": 20,
   "id": "3b4f3336-b451-4367-a50e-f8bcccec9dcc",
   "metadata": {},
   "outputs": [
    {
     "data": {
      "text/plain": [
       "'Grace Hopper'"
      ]
     },
     "execution_count": 20,
     "metadata": {},
     "output_type": "execute_result"
    }
   ],
   "source": [
    "name # evaluate this expression"
   ]
  },
  {
   "cell_type": "code",
   "execution_count": 23,
   "id": "4fca8c35-9ab1-4e98-be59-e758644699f4",
   "metadata": {},
   "outputs": [
    {
     "data": {
      "text/plain": [
       "int"
      ]
     },
     "execution_count": 23,
     "metadata": {},
     "output_type": "execute_result"
    }
   ],
   "source": [
    "num = 4\n",
    "type(num)"
   ]
  },
  {
   "cell_type": "code",
   "execution_count": 24,
   "id": "b7c2d50f-c7b6-4f33-8fda-5e2f4389a269",
   "metadata": {},
   "outputs": [],
   "source": [
    "b = True"
   ]
  },
  {
   "cell_type": "code",
   "execution_count": 25,
   "id": "667655f0-6688-49cf-9ba8-de256dbbeb7b",
   "metadata": {},
   "outputs": [
    {
     "data": {
      "text/plain": [
       "bool"
      ]
     },
     "execution_count": 25,
     "metadata": {},
     "output_type": "execute_result"
    }
   ],
   "source": [
    "type(b)"
   ]
  },
  {
   "cell_type": "code",
   "execution_count": 26,
   "id": "7d99805e-12da-4e3a-a34d-1d4c7b805f8d",
   "metadata": {},
   "outputs": [],
   "source": [
    "b = False"
   ]
  },
  {
   "cell_type": "code",
   "execution_count": 27,
   "id": "27251434-0f4e-41de-871b-ea0d4329c493",
   "metadata": {},
   "outputs": [
    {
     "data": {
      "text/plain": [
       "bool"
      ]
     },
     "execution_count": 27,
     "metadata": {},
     "output_type": "execute_result"
    }
   ],
   "source": [
    "type(b)"
   ]
  },
  {
   "cell_type": "code",
   "execution_count": 28,
   "id": "fa6a0c46-7a64-459d-bb67-cbf5eea5595d",
   "metadata": {},
   "outputs": [],
   "source": [
    "b = 'True'"
   ]
  },
  {
   "cell_type": "code",
   "execution_count": 29,
   "id": "ed43baca-2b76-47d8-a506-f1feab6711e2",
   "metadata": {},
   "outputs": [
    {
     "data": {
      "text/plain": [
       "str"
      ]
     },
     "execution_count": 29,
     "metadata": {},
     "output_type": "execute_result"
    }
   ],
   "source": [
    "type(b)"
   ]
  },
  {
   "cell_type": "code",
   "execution_count": null,
   "id": "66d540d7-d91c-4c23-9121-394177a1e62d",
   "metadata": {},
   "outputs": [],
   "source": [
    "first_name, last_name = 'Ada', 'Lovelace'"
   ]
  },
  {
   "cell_type": "code",
   "execution_count": 4,
   "id": "72f2b64d-e246-4d34-9eb5-25aaa066feeb",
   "metadata": {},
   "outputs": [
    {
     "name": "stdout",
     "output_type": "stream",
     "text": [
      "1 2 3 4\n"
     ]
    }
   ],
   "source": [
    "print(1, 2, 3, end=' ')\n",
    "print(4)"
   ]
  },
  {
   "cell_type": "code",
   "execution_count": 5,
   "id": "bd95a3a7-3046-4cb9-ba6c-e1fa9e9a68b7",
   "metadata": {},
   "outputs": [
    {
     "data": {
      "text/plain": [
       "'53.3'"
      ]
     },
     "execution_count": 5,
     "metadata": {},
     "output_type": "execute_result"
    }
   ],
   "source": [
    "str(53.3)"
   ]
  },
  {
   "cell_type": "code",
   "execution_count": 6,
   "id": "436958c1-4973-4e6d-a3ff-ee12bebcf61a",
   "metadata": {},
   "outputs": [
    {
     "data": {
      "text/plain": [
       "'False'"
      ]
     },
     "execution_count": 6,
     "metadata": {},
     "output_type": "execute_result"
    }
   ],
   "source": [
    "str(False)"
   ]
  },
  {
   "cell_type": "code",
   "execution_count": 7,
   "id": "d20cf652-3d4c-4128-ad50-ef039a2b897b",
   "metadata": {},
   "outputs": [
    {
     "ename": "NameError",
     "evalue": "name 'false' is not defined",
     "output_type": "error",
     "traceback": [
      "\u001b[0;31m---------------------------------------------------------------------------\u001b[0m",
      "\u001b[0;31mNameError\u001b[0m                                 Traceback (most recent call last)",
      "\u001b[0;32m/tmp/ipykernel_182/1960697816.py\u001b[0m in \u001b[0;36m<module>\u001b[0;34m\u001b[0m\n\u001b[0;32m----> 1\u001b[0;31m \u001b[0mstr\u001b[0m\u001b[0;34m(\u001b[0m\u001b[0mfalse\u001b[0m\u001b[0;34m)\u001b[0m\u001b[0;34m\u001b[0m\u001b[0;34m\u001b[0m\u001b[0m\n\u001b[0m",
      "\u001b[0;31mNameError\u001b[0m: name 'false' is not defined"
     ]
    }
   ],
   "source": [
    "str(false)"
   ]
  },
  {
   "cell_type": "code",
   "execution_count": 12,
   "id": "7e2df6ad-b8be-4ed3-b96c-1ea7072b1dbc",
   "metadata": {},
   "outputs": [],
   "source": [
    "false = 45.6 # very bad idea!"
   ]
  },
  {
   "cell_type": "code",
   "execution_count": 11,
   "id": "1e3d6b6c-7d8c-45bb-bf41-3016afe443a5",
   "metadata": {},
   "outputs": [
    {
     "data": {
      "text/plain": [
       "'45.6'"
      ]
     },
     "execution_count": 11,
     "metadata": {},
     "output_type": "execute_result"
    }
   ],
   "source": [
    "str(false)"
   ]
  },
  {
   "cell_type": "code",
   "execution_count": 1,
   "id": "bc00ba32-490e-48b7-b2df-9ac4f385c817",
   "metadata": {},
   "outputs": [],
   "source": [
    "x = 2"
   ]
  },
  {
   "cell_type": "code",
   "execution_count": 1,
   "id": "c6763064-c319-4146-b77d-e62a03609bb8",
   "metadata": {},
   "outputs": [
    {
     "data": {
      "text/plain": [
       "True"
      ]
     },
     "execution_count": 1,
     "metadata": {},
     "output_type": "execute_result"
    }
   ],
   "source": [
    "'p' in 'python'"
   ]
  },
  {
   "cell_type": "code",
   "execution_count": 4,
   "id": "ab9f81f7-5872-428c-8cdf-5854075b8a46",
   "metadata": {},
   "outputs": [
    {
     "data": {
      "text/plain": [
       "True"
      ]
     },
     "execution_count": 4,
     "metadata": {},
     "output_type": "execute_result"
    }
   ],
   "source": [
    "'pytho' in 'python'"
   ]
  },
  {
   "cell_type": "code",
   "execution_count": 5,
   "id": "6e3058b8-b5ab-4c6e-9bab-7308627835db",
   "metadata": {},
   "outputs": [],
   "source": [
    "import math"
   ]
  },
  {
   "cell_type": "code",
   "execution_count": 6,
   "id": "398bc579-4084-4bf6-b8d0-67a837f9c005",
   "metadata": {},
   "outputs": [],
   "source": [
    "import random"
   ]
  },
  {
   "cell_type": "code",
   "execution_count": 7,
   "id": "4a44b940-ba4c-42cd-963a-bef663a7ae1d",
   "metadata": {},
   "outputs": [
    {
     "data": {
      "text/plain": [
       "['BPF',\n",
       " 'LOG4',\n",
       " 'NV_MAGICCONST',\n",
       " 'RECIP_BPF',\n",
       " 'Random',\n",
       " 'SG_MAGICCONST',\n",
       " 'SystemRandom',\n",
       " 'TWOPI',\n",
       " '_BuiltinMethodType',\n",
       " '_MethodType',\n",
       " '_Sequence',\n",
       " '_Set',\n",
       " '__all__',\n",
       " '__builtins__',\n",
       " '__cached__',\n",
       " '__doc__',\n",
       " '__file__',\n",
       " '__loader__',\n",
       " '__name__',\n",
       " '__package__',\n",
       " '__spec__',\n",
       " '_acos',\n",
       " '_bisect',\n",
       " '_ceil',\n",
       " '_cos',\n",
       " '_e',\n",
       " '_exp',\n",
       " '_inst',\n",
       " '_itertools',\n",
       " '_log',\n",
       " '_os',\n",
       " '_pi',\n",
       " '_random',\n",
       " '_sha512',\n",
       " '_sin',\n",
       " '_sqrt',\n",
       " '_test',\n",
       " '_test_generator',\n",
       " '_urandom',\n",
       " '_warn',\n",
       " 'betavariate',\n",
       " 'choice',\n",
       " 'choices',\n",
       " 'expovariate',\n",
       " 'gammavariate',\n",
       " 'gauss',\n",
       " 'getrandbits',\n",
       " 'getstate',\n",
       " 'lognormvariate',\n",
       " 'normalvariate',\n",
       " 'paretovariate',\n",
       " 'randint',\n",
       " 'random',\n",
       " 'randrange',\n",
       " 'sample',\n",
       " 'seed',\n",
       " 'setstate',\n",
       " 'shuffle',\n",
       " 'triangular',\n",
       " 'uniform',\n",
       " 'vonmisesvariate',\n",
       " 'weibullvariate']"
      ]
     },
     "execution_count": 7,
     "metadata": {},
     "output_type": "execute_result"
    }
   ],
   "source": [
    "dir(random)"
   ]
  },
  {
   "cell_type": "code",
   "execution_count": 12,
   "id": "ea27b095-8d37-48ba-9aa9-7aa4126cf5ee",
   "metadata": {},
   "outputs": [
    {
     "data": {
      "text/plain": [
       "88"
      ]
     },
     "execution_count": 12,
     "metadata": {},
     "output_type": "execute_result"
    }
   ],
   "source": [
    "random.randint(1, 100)"
   ]
  },
  {
   "cell_type": "code",
   "execution_count": null,
   "id": "dfd3c01e-86d3-4c07-943c-6e4b709bf2e7",
   "metadata": {},
   "outputs": [],
   "source": []
  },
  {
   "cell_type": "code",
   "execution_count": 5,
   "id": "c6841ea0-1245-48a5-9148-0b91957c3920",
   "metadata": {},
   "outputs": [
    {
     "name": "stdout",
     "output_type": "stream",
     "text": [
      "1\n",
      "2\n",
      "3\n",
      "4\n",
      "5\n",
      "6\n",
      "7\n",
      "8\n",
      "9\n"
     ]
    }
   ],
   "source": [
    "for num in range(1, 10):\n",
    "    print(num)"
   ]
  },
  {
   "cell_type": "code",
   "execution_count": 3,
   "id": "871e5c96-7886-421a-826d-bb84d6183d6c",
   "metadata": {},
   "outputs": [
    {
     "name": "stdout",
     "output_type": "stream",
     "text": [
      "1\n",
      "3\n",
      "5\n",
      "7\n",
      "9\n"
     ]
    }
   ],
   "source": [
    "for num in range(1, 10, 2):\n",
    "    print(num)"
   ]
  },
  {
   "cell_type": "code",
   "execution_count": 7,
   "id": "99e63ac1-f978-4527-9d1b-1ca45cd64efc",
   "metadata": {},
   "outputs": [
    {
     "name": "stdout",
     "output_type": "stream",
     "text": [
      "hi\n",
      "hi\n",
      "hi\n",
      "hi\n",
      "hi\n",
      "hi\n",
      "hi\n",
      "hi\n",
      "hi\n",
      "hi\n"
     ]
    }
   ],
   "source": [
    "for num in range(10): # I want to do this 10 times\n",
    "    print('hi')"
   ]
  },
  {
   "cell_type": "markdown",
   "id": "1782726c-c030-463a-8396-e97fe40b6b8f",
   "metadata": {},
   "source": [
    "## Quick Lab: Loops/Strings\n",
    "* have the user enter a string, then loop through the string to generate (or print) a new string in which every character is duplicated, e.g., \"Python\" => \"PPyytthhoonn\""
   ]
  },
  {
   "cell_type": "code",
   "execution_count": 1,
   "id": "a2d31462-899f-4de8-a042-f03cd1241a0c",
   "metadata": {},
   "outputs": [
    {
     "name": "stdin",
     "output_type": "stream",
     "text": [
      "Enter a string:  Tesla\n"
     ]
    },
    {
     "name": "stdout",
     "output_type": "stream",
     "text": [
      "TTeessllaa"
     ]
    }
   ],
   "source": [
    "string = input('Enter a string: ')\n",
    "for letter in string:\n",
    "    print(letter * 2, end='') # don't print NEWLINE after each pair of letters"
   ]
  },
  {
   "cell_type": "code",
   "execution_count": 2,
   "id": "f772b6ad-bbba-4810-ab92-52a51fb7dbbe",
   "metadata": {},
   "outputs": [
    {
     "name": "stdin",
     "output_type": "stream",
     "text": [
      "Enter a string:  Fisker\n"
     ]
    },
    {
     "name": "stdout",
     "output_type": "stream",
     "text": [
      "FFiisskkeerr\n"
     ]
    }
   ],
   "source": [
    "string = input('Enter a string: ')\n",
    "new_string = '' # start w/an empty string\n",
    "for letter in string:\n",
    "    new_string = new_string + letter * 2\n",
    "print(new_string)"
   ]
  },
  {
   "cell_type": "markdown",
   "id": "49041304-e3f8-4b8b-92fb-a20ab86a580e",
   "metadata": {},
   "source": [
    "## Lab: Loops\n",
    "* Loop through the numbers from 2 to 25 and print out which numbers are prime, and for those numbers which are not prime numbers, you should print them as a product of two factors\n",
    "* Remember that prime = no divisors other than 1 and itself\n",
    "* Don't worry about efficiency, but if you're interested, check out math.sqrt()\n",
    "* example output:\n",
    "<pre>\n",
    "2 is a prime number\n",
    "3 is a prime number\n",
    "4 equals 2 * 2\n",
    "5 is a prime number\n",
    "6 equals 2 * 3\n",
    "7 is a prime number\n",
    "8 equals 2 * 4\n",
    "9 equals 3 * 3\n",
    "10 equals 2 * 5\n",
    "11 is a prime number\n",
    "12 equals 2 * 6\n",
    "13 is a prime number\n",
    "14 equals 2 * 7\n",
    "15 equals 3 * 5\n",
    "16 equals 2 * 8\n",
    "17 is a prime number\n",
    "18 equals 2 * 9\n",
    "19 is a prime number\n",
    "20 equals 2 * 10\n",
    "21 equals 3 * 7\n",
    "22 equals 2 * 11\n",
    "23 is a prime number\n",
    "24 equals 2 * 12\n",
    "25 equals 5 * 5\n",
    "</pre>"
   ]
  },
  {
   "cell_type": "code",
   "execution_count": null,
   "id": "7c36d0df-bda5-4132-9858-4c4c40ffcee5",
   "metadata": {},
   "outputs": [],
   "source": [
    "# pretend you're a human, and solve the problem yourself\n",
    "# notice all of the steps you took (hard to do)\n",
    "# convert each to step to Python\n",
    "# 1. consider 11\n",
    "# 2. try to divide 2..10 into 11\n",
    "# 3. if nothing divides in, then PRIME\n",
    "#    if something divides in, then NOT PRIME, i.e., something * quotient"
   ]
  },
  {
   "cell_type": "code",
   "execution_count": 3,
   "id": "be6c9e31-a2e5-423e-bb96-c308cd94faa5",
   "metadata": {},
   "outputs": [
    {
     "name": "stdout",
     "output_type": "stream",
     "text": [
      "2: \n",
      "3: 2 \n",
      "4: 2 3 \n",
      "5: 2 3 4 \n",
      "6: 2 3 4 5 \n",
      "7: 2 3 4 5 6 \n",
      "8: 2 3 4 5 6 7 \n",
      "9: 2 3 4 5 6 7 8 \n",
      "10: 2 3 4 5 6 7 8 9 \n",
      "11: 2 3 4 5 6 7 8 9 10 \n",
      "12: 2 3 4 5 6 7 8 9 10 11 \n",
      "13: 2 3 4 5 6 7 8 9 10 11 12 \n",
      "14: 2 3 4 5 6 7 8 9 10 11 12 13 \n",
      "15: 2 3 4 5 6 7 8 9 10 11 12 13 14 \n",
      "16: 2 3 4 5 6 7 8 9 10 11 12 13 14 15 \n",
      "17: 2 3 4 5 6 7 8 9 10 11 12 13 14 15 16 \n",
      "18: 2 3 4 5 6 7 8 9 10 11 12 13 14 15 16 17 \n",
      "19: 2 3 4 5 6 7 8 9 10 11 12 13 14 15 16 17 18 \n",
      "20: 2 3 4 5 6 7 8 9 10 11 12 13 14 15 16 17 18 19 \n",
      "21: 2 3 4 5 6 7 8 9 10 11 12 13 14 15 16 17 18 19 20 \n",
      "22: 2 3 4 5 6 7 8 9 10 11 12 13 14 15 16 17 18 19 20 21 \n",
      "23: 2 3 4 5 6 7 8 9 10 11 12 13 14 15 16 17 18 19 20 21 22 \n",
      "24: 2 3 4 5 6 7 8 9 10 11 12 13 14 15 16 17 18 19 20 21 22 23 \n",
      "25: 2 3 4 5 6 7 8 9 10 11 12 13 14 15 16 17 18 19 20 21 22 23 24 \n"
     ]
    }
   ],
   "source": [
    "# first let's check our logic–are we checking right values?\n",
    "for num in range(2, 26): # 2..25\n",
    "    print(num, end=': ') # print number...\n",
    "    for check in range(2, num): # Edsger Dijkstra\n",
    "        print(check, end=' ') # print poss. divisor\n",
    "    print()"
   ]
  },
  {
   "cell_type": "code",
   "execution_count": 1,
   "id": "63518d28-42a4-4a29-a436-406ec9226722",
   "metadata": {},
   "outputs": [
    {
     "name": "stdout",
     "output_type": "stream",
     "text": [
      "2 is prime\n",
      "3 is prime\n",
      "4 equals 2 * 2\n",
      "5 is prime\n",
      "6 equals 2 * 3\n",
      "7 is prime\n",
      "8 equals 2 * 4\n",
      "9 equals 3 * 3\n",
      "10 equals 2 * 5\n",
      "11 is prime\n",
      "12 equals 2 * 6\n",
      "13 is prime\n",
      "14 equals 2 * 7\n",
      "15 equals 3 * 5\n",
      "16 equals 2 * 8\n",
      "17 is prime\n",
      "18 equals 2 * 9\n",
      "19 is prime\n",
      "20 equals 2 * 10\n",
      "21 equals 3 * 7\n",
      "22 equals 2 * 11\n",
      "23 is prime\n",
      "24 equals 2 * 12\n",
      "25 equals 5 * 5\n"
     ]
    }
   ],
   "source": [
    "for number in range(2, 26): # 2..25\n",
    "    for possible_divisor in range(2, number): # 2..num-1\n",
    "        quotient, remainder = divmod(number, possible_divisor)\n",
    "        if remainder  == 0: # divides in evenly\n",
    "            print(number, 'equals', possible_divisor, '*', quotient)\n",
    "            break # no need to check any more\n",
    "    else: # only get here if no break, i.e., no divisors\n",
    "        print(number, 'is prime')"
   ]
  },
  {
   "cell_type": "code",
   "execution_count": 2,
   "id": "55bd64b2-512e-4b92-ad7e-f1153688d739",
   "metadata": {},
   "outputs": [
    {
     "data": {
      "text/plain": [
       "5"
      ]
     },
     "execution_count": 2,
     "metadata": {},
     "output_type": "execute_result"
    }
   ],
   "source": [
    "len('     ')"
   ]
  },
  {
   "cell_type": "code",
   "execution_count": 3,
   "id": "37b07bd5-85ff-4749-b33d-f4f5b968c99e",
   "metadata": {},
   "outputs": [
    {
     "data": {
      "text/plain": [
       "0"
      ]
     },
     "execution_count": 3,
     "metadata": {},
     "output_type": "execute_result"
    }
   ],
   "source": [
    "len('')"
   ]
  },
  {
   "cell_type": "code",
   "execution_count": 4,
   "id": "f7baaf27-74a5-4ca6-b76a-5c5074c44324",
   "metadata": {},
   "outputs": [],
   "source": [
    "s = 'string'"
   ]
  },
  {
   "cell_type": "code",
   "execution_count": 5,
   "id": "692d0538-149c-4d43-a157-19f688a982ce",
   "metadata": {},
   "outputs": [],
   "source": [
    "x = 1"
   ]
  },
  {
   "cell_type": "code",
   "execution_count": 6,
   "id": "534e851c-dece-42c1-874e-358424a3ad9c",
   "metadata": {},
   "outputs": [],
   "source": [
    "x = 111"
   ]
  },
  {
   "cell_type": "code",
   "execution_count": 7,
   "id": "3fe89295-5367-47b6-a634-b3dc9f3a794c",
   "metadata": {},
   "outputs": [],
   "source": [
    "s = 'string'"
   ]
  },
  {
   "cell_type": "code",
   "execution_count": 8,
   "id": "8d833b0c-bca6-4cd7-b190-711e31c3a320",
   "metadata": {},
   "outputs": [
    {
     "ename": "TypeError",
     "evalue": "'str' object does not support item assignment",
     "output_type": "error",
     "traceback": [
      "\u001b[0;31m---------------------------------------------------------------------------\u001b[0m",
      "\u001b[0;31mTypeError\u001b[0m                                 Traceback (most recent call last)",
      "\u001b[0;32m/tmp/ipykernel_244/3112014001.py\u001b[0m in \u001b[0;36m<module>\u001b[0;34m\u001b[0m\n\u001b[0;32m----> 1\u001b[0;31m \u001b[0ms\u001b[0m\u001b[0;34m[\u001b[0m\u001b[0;36m0\u001b[0m\u001b[0;34m]\u001b[0m \u001b[0;34m=\u001b[0m \u001b[0;34m'S'\u001b[0m\u001b[0;34m\u001b[0m\u001b[0;34m\u001b[0m\u001b[0m\n\u001b[0m",
      "\u001b[0;31mTypeError\u001b[0m: 'str' object does not support item assignment"
     ]
    }
   ],
   "source": [
    "s[0] = 'S'"
   ]
  },
  {
   "cell_type": "code",
   "execution_count": 9,
   "id": "fdb688b6-94be-4018-9932-d79910095781",
   "metadata": {},
   "outputs": [],
   "source": [
    "s = 'String'"
   ]
  },
  {
   "cell_type": "code",
   "execution_count": 10,
   "id": "65184c05-9527-43b6-8d12-ec1e205486ef",
   "metadata": {},
   "outputs": [
    {
     "data": {
      "text/plain": [
       "'String'"
      ]
     },
     "execution_count": 10,
     "metadata": {},
     "output_type": "execute_result"
    }
   ],
   "source": [
    "s"
   ]
  },
  {
   "cell_type": "code",
   "execution_count": 11,
   "id": "94ae4de4-4d40-4a70-8daa-a051826db459",
   "metadata": {},
   "outputs": [],
   "source": [
    "s = 'string string'"
   ]
  },
  {
   "cell_type": "code",
   "execution_count": 13,
   "id": "13618a08-363f-4df0-9cbe-dd6810a7c8d2",
   "metadata": {},
   "outputs": [
    {
     "data": {
      "text/plain": [
       "13"
      ]
     },
     "execution_count": 13,
     "metadata": {},
     "output_type": "execute_result"
    }
   ],
   "source": [
    "len(s)"
   ]
  },
  {
   "cell_type": "code",
   "execution_count": 14,
   "id": "c7c25e38-5175-4eb4-a6f6-cebb022dd33b",
   "metadata": {},
   "outputs": [],
   "source": [
    "s = '    string.    '"
   ]
  },
  {
   "cell_type": "code",
   "execution_count": 16,
   "id": "abe0e2e9-9711-4388-9ae5-fd500d4e2751",
   "metadata": {},
   "outputs": [],
   "source": [
    "s = s.strip()"
   ]
  },
  {
   "cell_type": "code",
   "execution_count": 17,
   "id": "d0b6f031-ad44-40fa-95a5-096d70d3c898",
   "metadata": {},
   "outputs": [
    {
     "data": {
      "text/plain": [
       "'string.'"
      ]
     },
     "execution_count": 17,
     "metadata": {},
     "output_type": "execute_result"
    }
   ],
   "source": [
    "s"
   ]
  },
  {
   "cell_type": "code",
   "execution_count": 18,
   "id": "799f8161-8902-42dd-ba9f-c0a5b6cf270f",
   "metadata": {},
   "outputs": [
    {
     "data": {
      "text/plain": [
       "'e'"
      ]
     },
     "execution_count": 18,
     "metadata": {},
     "output_type": "execute_result"
    }
   ],
   "source": [
    "'E'.swapcase()"
   ]
  },
  {
   "cell_type": "markdown",
   "id": "167e1b7d-f0c7-4e4b-9d70-f223fbfcc6dc",
   "metadata": {},
   "source": [
    "## Lab: String Functions\n",
    "* write a Python program which prompts the user for a string and a stride (increment), and alternately makes the string upper case and lower case, stride characters at a time, e.g.,\n",
    "![alt-text](images/uplow.png \"uplow\")\n"
   ]
  },
  {
   "cell_type": "code",
   "execution_count": 19,
   "id": "cdcae384-d2c0-43d0-881f-ca07a1b8be32",
   "metadata": {},
   "outputs": [],
   "source": [
    "s = 'abcdefghijklmnopqrstuvwxyz'"
   ]
  },
  {
   "cell_type": "code",
   "execution_count": 20,
   "id": "2c8a2e4d-fda4-4748-b1c6-9c42a744a44e",
   "metadata": {},
   "outputs": [
    {
     "data": {
      "text/plain": [
       "'abcd'"
      ]
     },
     "execution_count": 20,
     "metadata": {},
     "output_type": "execute_result"
    }
   ],
   "source": [
    "s[0:4]"
   ]
  },
  {
   "cell_type": "code",
   "execution_count": 21,
   "id": "425f5e36-9c94-49de-af5a-10aae983c1c7",
   "metadata": {},
   "outputs": [
    {
     "data": {
      "text/plain": [
       "'efgh'"
      ]
     },
     "execution_count": 21,
     "metadata": {},
     "output_type": "execute_result"
    }
   ],
   "source": [
    "s[4:8]"
   ]
  },
  {
   "cell_type": "code",
   "execution_count": 22,
   "id": "a9863f7c-f92a-4059-9d45-ca1bf35e6bd2",
   "metadata": {},
   "outputs": [
    {
     "data": {
      "text/plain": [
       "'ijkl'"
      ]
     },
     "execution_count": 22,
     "metadata": {},
     "output_type": "execute_result"
    }
   ],
   "source": [
    "s[8:12]"
   ]
  },
  {
   "cell_type": "code",
   "execution_count": 23,
   "id": "7e84f38a-e4b8-452f-8fb7-ecc2a8e7e703",
   "metadata": {},
   "outputs": [],
   "source": [
    "stride = 4"
   ]
  },
  {
   "cell_type": "code",
   "execution_count": 25,
   "id": "60ccd112-1659-4ffe-90bb-dc12911e17c4",
   "metadata": {},
   "outputs": [
    {
     "name": "stdout",
     "output_type": "stream",
     "text": [
      "0 : 4\n",
      "4 : 8\n",
      "8 : 12\n",
      "12 : 16\n",
      "16 : 20\n",
      "20 : 24\n",
      "24 : 28\n"
     ]
    }
   ],
   "source": [
    "for position in range(0, len(s), stride):\n",
    "    print(position, ':', position + stride)"
   ]
  },
  {
   "cell_type": "code",
   "execution_count": 26,
   "id": "9db770eb-35da-4054-a7d2-94cd097ea5da",
   "metadata": {},
   "outputs": [
    {
     "data": {
      "text/plain": [
       "'yz'"
      ]
     },
     "execution_count": 26,
     "metadata": {},
     "output_type": "execute_result"
    }
   ],
   "source": [
    "s[24:28]"
   ]
  },
  {
   "cell_type": "code",
   "execution_count": 33,
   "id": "0a3d2b56-6608-4f09-8a78-b8ec18d989ba",
   "metadata": {},
   "outputs": [
    {
     "name": "stdin",
     "output_type": "stream",
     "text": [
      "Enter a string:  abcdefghijk\n",
      "Enter a stride:  3\n"
     ]
    },
    {
     "name": "stdout",
     "output_type": "stream",
     "text": [
      "abc\n",
      "def\n",
      "ghi\n",
      "jk\n"
     ]
    }
   ],
   "source": [
    "string = input('Enter a string: ')\n",
    "stride = int(input('Enter a stride: '))\n",
    "# start by ensuring our slices are correct...\n",
    "for position in range(0, len(string), stride):\n",
    "    print(string[position:position + stride])"
   ]
  },
  {
   "cell_type": "code",
   "execution_count": 30,
   "id": "1d9127ba-40b5-47cc-b312-e7121ad51349",
   "metadata": {},
   "outputs": [],
   "source": [
    "# at this point, what remains is to keep track of what we do, i.e., upper or lower\n",
    "# so that the next operation is the opposite of what we did previously\n",
    "# humans have the advantage here–it's easy to remember what we did, or at worst,\n",
    "# LOOK AT WHAT WE DID previously to determine what we should do next\n",
    "# (And we could have our code look at the last thing we did, but it's better to \n",
    "# just keep track.)"
   ]
  },
  {
   "cell_type": "code",
   "execution_count": 35,
   "id": "a01437de-0a8a-458a-9a27-ffd55c11afc8",
   "metadata": {},
   "outputs": [
    {
     "name": "stdin",
     "output_type": "stream",
     "text": [
      "Enter a string:  abcdefghijklmnopqrstuvwxyz\n",
      "Enter a stride:  1\n"
     ]
    },
    {
     "name": "stdout",
     "output_type": "stream",
     "text": [
      "AbCdEfGhIjKlMnOpQrStUvWxYz"
     ]
    }
   ],
   "source": [
    "string = input('Enter a string: ')\n",
    "stride = int(input('Enter a stride: '))\n",
    "next_operation = 'upper' # what should we do next?\n",
    "\n",
    "for position in range(0, len(s), stride):\n",
    "    if next_operation == 'upper':\n",
    "        print(string[position:position + stride].upper(), end='') # make slice upper case\n",
    "        next_operation = 'lower' # set us up to do the correct thing next time around\n",
    "    else:\n",
    "        print(string[position:position + stride].lower(), end='') # make slice lower case\n",
    "        next_operation = 'upper'"
   ]
  },
  {
   "cell_type": "code",
   "execution_count": 36,
   "id": "e1dad5a8-0cd6-4e94-87ec-8aa929254a2c",
   "metadata": {},
   "outputs": [
    {
     "name": "stdin",
     "output_type": "stream",
     "text": [
      "Enter a string:  abcdefghijklm\n",
      "Enter a stride:  2\n"
     ]
    },
    {
     "name": "stdout",
     "output_type": "stream",
     "text": [
      "ABcdEFghIJklM"
     ]
    }
   ],
   "source": [
    "# One problem with the above is that the \"next_operation\" variable really isn't being \n",
    "# used, except to see if it's 'upper'. If it's *anything* other than 'upper' we assume\n",
    "# 'lower'. So a better solution, a more programmatic solution, is to use a Boolean.\n",
    "string = input('Enter a string: ')\n",
    "stride = int(input('Enter a stride: '))\n",
    "do_upper = True # next thing we do is convert to upper case\n",
    "\n",
    "for position in range(0, len(s), stride):\n",
    "    if do_upper:\n",
    "        print(string[position:position + stride].upper(), end='') # make slice upper case\n",
    "        do_upper = False # set us up to do the correct thing next time around\n",
    "    else:\n",
    "        print(string[position:position + stride].lower(), end='') # make slice lower case\n",
    "        do_upper = "
   ]
  }
 ],
 "metadata": {
  "kernelspec": {
   "display_name": "Python 3 (ipykernel)",
   "language": "python",
   "name": "python3"
  },
  "language_info": {
   "codemirror_mode": {
    "name": "ipython",
    "version": 3
   },
   "file_extension": ".py",
   "mimetype": "text/x-python",
   "name": "python",
   "nbconvert_exporter": "python",
   "pygments_lexer": "ipython3",
   "version": "3.7.12"
  }
 },
 "nbformat": 4,
 "nbformat_minor": 5
}
